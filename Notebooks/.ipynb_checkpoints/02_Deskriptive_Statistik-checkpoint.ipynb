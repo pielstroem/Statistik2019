{
 "cells": [
  {
   "cell_type": "markdown",
   "metadata": {},
   "source": [
    "# 2. Sitzung\n",
    "# Deskriptive Statistik: Lage- Streuparameter, Skalenniveaus, Verteilungen\n",
    "29.4.2019"
   ]
  },
  {
   "cell_type": "markdown",
   "metadata": {},
   "source": [
    "# Mit Markdown arbeiten"
   ]
  },
  {
   "cell_type": "markdown",
   "metadata": {},
   "source": [
    "Überschrift 1\n",
    "=============\n",
    "\n",
    "Überschrift 2\n",
    "----------------------------\n",
    "\n",
    "\n",
    "# H1\n",
    "## H2\n",
    "### H3\n",
    "\n",
    "Man möchte Text *kursiv* schreiben, oder **fett**, oder ***fett und kursiv***.\n",
    "\n",
    "- Aufzähling\n",
    "- noch ein Punkt...\n",
    "\n",
    "ölkköonbkj\n",
    "\n",
    "1. erster Punkt\n",
    "2. zweiter Punkt\n",
    "\n",
    "Jetzt ein [link](de.wikipedia.org)\n",
    "\n",
    "$ a^2 + b^2 = c^2 $"
   ]
  },
  {
   "cell_type": "markdown",
   "metadata": {},
   "source": [
    "## Mit Pandas arbeiten"
   ]
  },
  {
   "cell_type": "code",
   "execution_count": 1,
   "metadata": {},
   "outputs": [],
   "source": [
    "import pandas as pd"
   ]
  },
  {
   "cell_type": "code",
   "execution_count": 2,
   "metadata": {},
   "outputs": [],
   "source": [
    "sp_authors_df = pd.read_csv(\"../Datensaetze/sp-authors.tsv\", sep=\"\\t\")"
   ]
  },
  {
   "cell_type": "code",
   "execution_count": 72,
   "metadata": {},
   "outputs": [],
   "source": [
    "sp_authors = pd.read_csv(\"../Datensaetze/sp-authors.tsv\", sep=\"\\t\")"
   ]
  },
  {
   "cell_type": "code",
   "execution_count": 3,
   "metadata": {},
   "outputs": [
    {
     "data": {
      "text/html": [
       "<div>\n",
       "<style scoped>\n",
       "    .dataframe tbody tr th:only-of-type {\n",
       "        vertical-align: middle;\n",
       "    }\n",
       "\n",
       "    .dataframe tbody tr th {\n",
       "        vertical-align: top;\n",
       "    }\n",
       "\n",
       "    .dataframe thead th {\n",
       "        text-align: right;\n",
       "    }\n",
       "</style>\n",
       "<table border=\"1\" class=\"dataframe\">\n",
       "  <thead>\n",
       "    <tr style=\"text-align: right;\">\n",
       "      <th></th>\n",
       "      <th>id</th>\n",
       "      <th>author-fullname</th>\n",
       "      <th>author</th>\n",
       "      <th>birth</th>\n",
       "      <th>death</th>\n",
       "      <th>gender</th>\n",
       "      <th>pages-in-manual</th>\n",
       "      <th>novels</th>\n",
       "      <th>works</th>\n",
       "      <th>life-span</th>\n",
       "      <th>digitzed-by</th>\n",
       "    </tr>\n",
       "  </thead>\n",
       "  <tbody>\n",
       "    <tr>\n",
       "      <th>0</th>\n",
       "      <td>1</td>\n",
       "      <td>Rosalía de Castro</td>\n",
       "      <td>RdCastro</td>\n",
       "      <td>1837</td>\n",
       "      <td>1885</td>\n",
       "      <td>female</td>\n",
       "      <td>17</td>\n",
       "      <td>1</td>\n",
       "      <td>1</td>\n",
       "      <td>48</td>\n",
       "      <td>6</td>\n",
       "    </tr>\n",
       "    <tr>\n",
       "      <th>1</th>\n",
       "      <td>2</td>\n",
       "      <td>Enrique Pérez Escrich</td>\n",
       "      <td>Escrich</td>\n",
       "      <td>1829</td>\n",
       "      <td>1897</td>\n",
       "      <td>male</td>\n",
       "      <td>1</td>\n",
       "      <td>4</td>\n",
       "      <td>17</td>\n",
       "      <td>68</td>\n",
       "      <td>5</td>\n",
       "    </tr>\n",
       "  </tbody>\n",
       "</table>\n",
       "</div>"
      ],
      "text/plain": [
       "   id        author-fullname    author  birth  death  gender  pages-in-manual  \\\n",
       "0   1      Rosalía de Castro  RdCastro   1837   1885  female               17   \n",
       "1   2  Enrique Pérez Escrich   Escrich   1829   1897    male                1   \n",
       "\n",
       "   novels  works  life-span  digitzed-by  \n",
       "0       1      1         48            6  \n",
       "1       4     17         68            5  "
      ]
     },
     "execution_count": 3,
     "metadata": {},
     "output_type": "execute_result"
    }
   ],
   "source": [
    "sp_authors_df.head(2)"
   ]
  },
  {
   "cell_type": "code",
   "execution_count": 4,
   "metadata": {},
   "outputs": [
    {
     "data": {
      "text/html": [
       "<div>\n",
       "<style scoped>\n",
       "    .dataframe tbody tr th:only-of-type {\n",
       "        vertical-align: middle;\n",
       "    }\n",
       "\n",
       "    .dataframe tbody tr th {\n",
       "        vertical-align: top;\n",
       "    }\n",
       "\n",
       "    .dataframe thead th {\n",
       "        text-align: right;\n",
       "    }\n",
       "</style>\n",
       "<table border=\"1\" class=\"dataframe\">\n",
       "  <thead>\n",
       "    <tr style=\"text-align: right;\">\n",
       "      <th></th>\n",
       "      <th>id</th>\n",
       "      <th>author-fullname</th>\n",
       "      <th>author</th>\n",
       "      <th>birth</th>\n",
       "      <th>death</th>\n",
       "      <th>gender</th>\n",
       "      <th>pages-in-manual</th>\n",
       "      <th>novels</th>\n",
       "      <th>works</th>\n",
       "      <th>life-span</th>\n",
       "      <th>digitzed-by</th>\n",
       "    </tr>\n",
       "  </thead>\n",
       "  <tbody>\n",
       "    <tr>\n",
       "      <th>128</th>\n",
       "      <td>129</td>\n",
       "      <td>Rafael Sánchez Mazas</td>\n",
       "      <td>Mazas</td>\n",
       "      <td>1894</td>\n",
       "      <td>1966</td>\n",
       "      <td>male</td>\n",
       "      <td>4</td>\n",
       "      <td>1</td>\n",
       "      <td>1</td>\n",
       "      <td>72</td>\n",
       "      <td>0</td>\n",
       "    </tr>\n",
       "    <tr>\n",
       "      <th>129</th>\n",
       "      <td>130</td>\n",
       "      <td>Ramón del Valle-Inclán</td>\n",
       "      <td>Valle</td>\n",
       "      <td>1866</td>\n",
       "      <td>1936</td>\n",
       "      <td>male</td>\n",
       "      <td>162</td>\n",
       "      <td>13</td>\n",
       "      <td>16</td>\n",
       "      <td>70</td>\n",
       "      <td>5</td>\n",
       "    </tr>\n",
       "    <tr>\n",
       "      <th>130</th>\n",
       "      <td>131</td>\n",
       "      <td>Julio Camba</td>\n",
       "      <td>JCamba</td>\n",
       "      <td>1882</td>\n",
       "      <td>1962</td>\n",
       "      <td>male</td>\n",
       "      <td>1</td>\n",
       "      <td>0</td>\n",
       "      <td>7</td>\n",
       "      <td>80</td>\n",
       "      <td>4</td>\n",
       "    </tr>\n",
       "    <tr>\n",
       "      <th>131</th>\n",
       "      <td>132</td>\n",
       "      <td>Rubén Darío</td>\n",
       "      <td>Dario</td>\n",
       "      <td>1867</td>\n",
       "      <td>1916</td>\n",
       "      <td>male</td>\n",
       "      <td>50</td>\n",
       "      <td>2</td>\n",
       "      <td>3</td>\n",
       "      <td>49</td>\n",
       "      <td>6</td>\n",
       "    </tr>\n",
       "    <tr>\n",
       "      <th>132</th>\n",
       "      <td>133</td>\n",
       "      <td>Agustín de Foxá</td>\n",
       "      <td>Foxa</td>\n",
       "      <td>1906</td>\n",
       "      <td>1959</td>\n",
       "      <td>male</td>\n",
       "      <td>30</td>\n",
       "      <td>1</td>\n",
       "      <td>2</td>\n",
       "      <td>53</td>\n",
       "      <td>3</td>\n",
       "    </tr>\n",
       "  </tbody>\n",
       "</table>\n",
       "</div>"
      ],
      "text/plain": [
       "      id         author-fullname  author  birth  death gender  \\\n",
       "128  129    Rafael Sánchez Mazas   Mazas   1894   1966   male   \n",
       "129  130  Ramón del Valle-Inclán   Valle   1866   1936   male   \n",
       "130  131             Julio Camba  JCamba   1882   1962   male   \n",
       "131  132             Rubén Darío   Dario   1867   1916   male   \n",
       "132  133         Agustín de Foxá    Foxa   1906   1959   male   \n",
       "\n",
       "     pages-in-manual  novels  works  life-span  digitzed-by  \n",
       "128                4       1      1         72            0  \n",
       "129              162      13     16         70            5  \n",
       "130                1       0      7         80            4  \n",
       "131               50       2      3         49            6  \n",
       "132               30       1      2         53            3  "
      ]
     },
     "execution_count": 4,
     "metadata": {},
     "output_type": "execute_result"
    }
   ],
   "source": [
    "sp_authors_df.tail()"
   ]
  },
  {
   "cell_type": "code",
   "execution_count": 5,
   "metadata": {},
   "outputs": [
    {
     "data": {
      "text/plain": [
       "0      1837\n",
       "1      1829\n",
       "2      1819\n",
       "3      1822\n",
       "4      1818\n",
       "5      1828\n",
       "6      1835\n",
       "7      1833\n",
       "8      1833\n",
       "9      1824\n",
       "10     1843\n",
       "11     1851\n",
       "12     1852\n",
       "13     1853\n",
       "14     1851\n",
       "15     1852\n",
       "16     1856\n",
       "17     1867\n",
       "18     1862\n",
       "19     1873\n",
       "20     1864\n",
       "21     1877\n",
       "22     1877\n",
       "23     1856\n",
       "24     1859\n",
       "25     1860\n",
       "26     1873\n",
       "27     1874\n",
       "28     1875\n",
       "29     1871\n",
       "       ... \n",
       "103    1887\n",
       "104    1881\n",
       "105    1895\n",
       "106    1898\n",
       "107    1895\n",
       "108    1901\n",
       "109    1904\n",
       "110    1893\n",
       "111    1902\n",
       "112    1903\n",
       "113    1891\n",
       "114    1902\n",
       "115    1904\n",
       "116    1909\n",
       "117    1909\n",
       "118    1898\n",
       "119    1901\n",
       "120    1906\n",
       "121    1897\n",
       "122    1900\n",
       "123    1903\n",
       "124    1917\n",
       "125    1903\n",
       "126    1909\n",
       "127    1917\n",
       "128    1894\n",
       "129    1866\n",
       "130    1882\n",
       "131    1867\n",
       "132    1906\n",
       "Name: birth, Length: 133, dtype: int64"
      ]
     },
     "execution_count": 5,
     "metadata": {},
     "output_type": "execute_result"
    }
   ],
   "source": [
    "sp_authors_df[\"birth\"]"
   ]
  },
  {
   "cell_type": "code",
   "execution_count": 8,
   "metadata": {},
   "outputs": [],
   "source": [
    "sp_authors_df[\"years-of-life\"] = sp_authors_df[\"death\"] -  sp_authors_df[\"birth\"]"
   ]
  },
  {
   "cell_type": "markdown",
   "metadata": {},
   "source": [
    "## Arithmetisches Mittel"
   ]
  },
  {
   "cell_type": "markdown",
   "metadata": {},
   "source": [
    "$ \\overline{x} = \\frac{1}{n}\\sum \\limits_{i=1}^n (x_i)$ "
   ]
  },
  {
   "cell_type": "code",
   "execution_count": 9,
   "metadata": {},
   "outputs": [],
   "source": [
    "sum_of_years = sum(sp_authors_df[\"years-of-life\"])\n"
   ]
  },
  {
   "cell_type": "code",
   "execution_count": 10,
   "metadata": {},
   "outputs": [
    {
     "data": {
      "text/plain": [
       "9004"
      ]
     },
     "execution_count": 10,
     "metadata": {},
     "output_type": "execute_result"
    }
   ],
   "source": [
    "sum_of_years"
   ]
  },
  {
   "cell_type": "code",
   "execution_count": 11,
   "metadata": {},
   "outputs": [
    {
     "data": {
      "text/plain": [
       "133"
      ]
     },
     "execution_count": 11,
     "metadata": {},
     "output_type": "execute_result"
    }
   ],
   "source": [
    "number_authors  = len(sp_authors_df[\"years-of-life\"])\n",
    "number_authors"
   ]
  },
  {
   "cell_type": "code",
   "execution_count": 12,
   "metadata": {},
   "outputs": [
    {
     "data": {
      "text/plain": [
       "67.69924812030075"
      ]
     },
     "execution_count": 12,
     "metadata": {},
     "output_type": "execute_result"
    }
   ],
   "source": [
    "sum_of_years / number_authors"
   ]
  },
  {
   "cell_type": "code",
   "execution_count": 13,
   "metadata": {},
   "outputs": [
    {
     "data": {
      "text/plain": [
       "67.69924812030075"
      ]
     },
     "execution_count": 13,
     "metadata": {},
     "output_type": "execute_result"
    }
   ],
   "source": [
    "sum(sp_authors_df[\"years-of-life\"]) / len(sp_authors_df[\"years-of-life\"])"
   ]
  },
  {
   "cell_type": "code",
   "execution_count": 14,
   "metadata": {},
   "outputs": [
    {
     "data": {
      "text/plain": [
       "67.69924812030075"
      ]
     },
     "execution_count": 14,
     "metadata": {},
     "output_type": "execute_result"
    }
   ],
   "source": [
    "sp_authors_df[\"years-of-life\"].mean()"
   ]
  },
  {
   "cell_type": "markdown",
   "metadata": {},
   "source": [
    "## Median"
   ]
  },
  {
   "cell_type": "code",
   "execution_count": 14,
   "metadata": {},
   "outputs": [
    {
     "data": {
      "text/plain": [
       "108     32\n",
       "80      34\n",
       "105     36\n",
       "90      36\n",
       "101     39\n",
       "68      41\n",
       "66      42\n",
       "78      42\n",
       "30      46\n",
       "28      47\n",
       "18      47\n",
       "67      48\n",
       "25      48\n",
       "0       48\n",
       "131     49\n",
       "12      49\n",
       "82      51\n",
       "50      51\n",
       "41      51\n",
       "35      51\n",
       "77      52\n",
       "20      52\n",
       "34      52\n",
       "132     53\n",
       "117     53\n",
       "58      54\n",
       "91      54\n",
       "52      55\n",
       "57      55\n",
       "48      55\n",
       "      ... \n",
       "119     81\n",
       "73      81\n",
       "89      81\n",
       "42      82\n",
       "29      82\n",
       "107     83\n",
       "70      83\n",
       "44      83\n",
       "84      84\n",
       "123     84\n",
       "110     84\n",
       "39      84\n",
       "72      85\n",
       "13      85\n",
       "36      85\n",
       "81      85\n",
       "74      86\n",
       "127     86\n",
       "125     86\n",
       "71      88\n",
       "88      88\n",
       "62      88\n",
       "46      90\n",
       "115     90\n",
       "85      92\n",
       "102     92\n",
       "40      94\n",
       "118     96\n",
       "19      98\n",
       "120    103\n",
       "Name: years-of-life, Length: 133, dtype: int64"
      ]
     },
     "execution_count": 14,
     "metadata": {},
     "output_type": "execute_result"
    }
   ],
   "source": [
    "sp_authors_df[\"years-of-life\"].sort_values()"
   ]
  },
  {
   "cell_type": "code",
   "execution_count": 15,
   "metadata": {},
   "outputs": [
    {
     "data": {
      "text/plain": [
       "66"
      ]
     },
     "execution_count": 15,
     "metadata": {},
     "output_type": "execute_result"
    }
   ],
   "source": [
    "round(len(sp_authors_df[\"years-of-life\"]) / 2)"
   ]
  },
  {
   "cell_type": "code",
   "execution_count": 16,
   "metadata": {},
   "outputs": [
    {
     "data": {
      "text/plain": [
       "48"
      ]
     },
     "execution_count": 16,
     "metadata": {},
     "output_type": "execute_result"
    }
   ],
   "source": [
    "sp_authors_df[\"years-of-life\"].sort_values()[67]"
   ]
  },
  {
   "cell_type": "code",
   "execution_count": 17,
   "metadata": {},
   "outputs": [
    {
     "data": {
      "text/plain": [
       "68"
      ]
     },
     "execution_count": 17,
     "metadata": {},
     "output_type": "execute_result"
    }
   ],
   "source": [
    "sp_authors_df[\"years-of-life\"].sort_values().values[67]"
   ]
  },
  {
   "cell_type": "code",
   "execution_count": 18,
   "metadata": {},
   "outputs": [
    {
     "data": {
      "text/plain": [
       "68.0"
      ]
     },
     "execution_count": 18,
     "metadata": {},
     "output_type": "execute_result"
    }
   ],
   "source": [
    "sp_authors_df[\"years-of-life\"].median()"
   ]
  },
  {
   "cell_type": "markdown",
   "metadata": {},
   "source": [
    "## Modalwert"
   ]
  },
  {
   "cell_type": "code",
   "execution_count": 19,
   "metadata": {},
   "outputs": [],
   "source": [
    "from collections import Counter"
   ]
  },
  {
   "cell_type": "code",
   "execution_count": 20,
   "metadata": {},
   "outputs": [
    {
     "data": {
      "text/plain": [
       "Counter({'and': 1, 'cat': 1, 'dog': 1, 'the': 2})"
      ]
     },
     "execution_count": 20,
     "metadata": {},
     "output_type": "execute_result"
    }
   ],
   "source": [
    "Counter([\"the\",\"cat\",\"and\",\"the\",\"dog\"])"
   ]
  },
  {
   "cell_type": "code",
   "execution_count": 21,
   "metadata": {},
   "outputs": [
    {
     "data": {
      "text/plain": [
       "[(68, 5),\n",
       " (60, 5),\n",
       " (66, 5),\n",
       " (65, 5),\n",
       " (70, 4),\n",
       " (73, 4),\n",
       " (81, 4),\n",
       " (85, 4),\n",
       " (71, 4),\n",
       " (61, 4)]"
      ]
     },
     "execution_count": 21,
     "metadata": {},
     "output_type": "execute_result"
    }
   ],
   "source": [
    "Counter(sp_authors_df[\"years-of-life\"]).most_common(10)"
   ]
  },
  {
   "cell_type": "code",
   "execution_count": 20,
   "metadata": {},
   "outputs": [
    {
     "data": {
      "text/plain": [
       "0    male\n",
       "dtype: object"
      ]
     },
     "execution_count": 20,
     "metadata": {},
     "output_type": "execute_result"
    }
   ],
   "source": [
    "sp_authors_df[\"gender\"].mode()"
   ]
  },
  {
   "cell_type": "markdown",
   "metadata": {},
   "source": [
    "## Unterschied zwischen Mittelwert und Median?"
   ]
  },
  {
   "cell_type": "code",
   "execution_count": 16,
   "metadata": {},
   "outputs": [
    {
     "data": {
      "text/plain": [
       "67.69924812030075"
      ]
     },
     "execution_count": 16,
     "metadata": {},
     "output_type": "execute_result"
    }
   ],
   "source": [
    "sp_authors_df[\"life-span\"].mean()"
   ]
  },
  {
   "cell_type": "code",
   "execution_count": 17,
   "metadata": {},
   "outputs": [
    {
     "data": {
      "text/plain": [
       "68.0"
      ]
     },
     "execution_count": 17,
     "metadata": {},
     "output_type": "execute_result"
    }
   ],
   "source": [
    "sp_authors_df[\"life-span\"].median()"
   ]
  },
  {
   "cell_type": "code",
   "execution_count": 18,
   "metadata": {},
   "outputs": [
    {
     "data": {
      "text/plain": [
       "5.481203007518797"
      ]
     },
     "execution_count": 18,
     "metadata": {},
     "output_type": "execute_result"
    }
   ],
   "source": [
    "sp_authors_df[\"novels\"].mean()"
   ]
  },
  {
   "cell_type": "code",
   "execution_count": 19,
   "metadata": {},
   "outputs": [
    {
     "data": {
      "text/plain": [
       "3.0"
      ]
     },
     "execution_count": 19,
     "metadata": {},
     "output_type": "execute_result"
    }
   ],
   "source": [
    "sp_authors_df[\"novels\"].median()"
   ]
  },
  {
   "cell_type": "markdown",
   "metadata": {},
   "source": [
    "# Streuparameter"
   ]
  },
  {
   "cell_type": "markdown",
   "metadata": {},
   "source": [
    "## Varianz"
   ]
  },
  {
   "cell_type": "code",
   "execution_count": 22,
   "metadata": {},
   "outputs": [
    {
     "data": {
      "text/plain": [
       "219.9240145819093"
      ]
     },
     "execution_count": 22,
     "metadata": {},
     "output_type": "execute_result"
    }
   ],
   "source": [
    "sum_distances = sum((sp_authors_df[\"life-span\"]\n",
    "                     - sp_authors_df[\"life-span\"].mean() )**2)\n",
    "\n",
    "n_1 = len(sp_authors_df[\"life-span\"])-1\n",
    "\n",
    "variance = sum_distances / n_1\n",
    "\n",
    "variance"
   ]
  },
  {
   "cell_type": "code",
   "execution_count": 24,
   "metadata": {},
   "outputs": [
    {
     "data": {
      "text/plain": [
       "219.92401458190926"
      ]
     },
     "execution_count": 24,
     "metadata": {},
     "output_type": "execute_result"
    }
   ],
   "source": [
    "sp_authors_df[\"life-span\"].var()"
   ]
  },
  {
   "cell_type": "markdown",
   "metadata": {},
   "source": [
    "## Standardabweichung"
   ]
  },
  {
   "cell_type": "code",
   "execution_count": 25,
   "metadata": {},
   "outputs": [
    {
     "data": {
      "text/plain": [
       "14.829835285056584"
      ]
     },
     "execution_count": 25,
     "metadata": {},
     "output_type": "execute_result"
    }
   ],
   "source": [
    "import math\n",
    "math.sqrt(variance)"
   ]
  },
  {
   "cell_type": "code",
   "execution_count": 26,
   "metadata": {},
   "outputs": [
    {
     "data": {
      "text/plain": [
       "14.829835285056584"
      ]
     },
     "execution_count": 26,
     "metadata": {},
     "output_type": "execute_result"
    }
   ],
   "source": [
    "std = variance ** 0.5\n",
    "std"
   ]
  },
  {
   "cell_type": "code",
   "execution_count": 28,
   "metadata": {},
   "outputs": [
    {
     "data": {
      "text/plain": [
       "14.829835285056584"
      ]
     },
     "execution_count": 28,
     "metadata": {},
     "output_type": "execute_result"
    }
   ],
   "source": [
    "sp_authors_df[\"life-span\"].std()"
   ]
  },
  {
   "cell_type": "markdown",
   "metadata": {},
   "source": [
    "## Interquartilabstand\n",
    "English = Interquantile range, IQR"
   ]
  },
  {
   "cell_type": "code",
   "execution_count": 30,
   "metadata": {},
   "outputs": [
    {
     "name": "stdout",
     "output_type": "stream",
     "text": [
      "[48, 68, 70, 60, 77, 68, 58, 58, 73, 81, 77, 70, 49, 85, 64, 71, 66, 61, 47, 98, 52, 66, 78, 56, 80, 48, 63, 62, 47, 82, 46, 65, 62, 80, 52, 51, 85, 67, 72, 84, 94, 51, 82, 75, 83, 71, 90, 80, 55, 59, 51, 59, 55, 66, 56, 73, 66, 55, 54, 59, 73, 63, 88, 61, 78, 78, 42, 48, 41, 75, 83, 88, 85, 81, 86, 62, 79, 52, 42, 66, 34, 85, 51, 72, 84, 92, 73, 60, 88, 81, 36, 54, 71, 70, 72, 65, 75, 74, 60, 74, 59, 39, 92, 68, 77, 36, 61, 83, 32, 65, 84, 64, 65, 60, 61, 90, 68, 53, 96, 81, 103, 60, 65, 84, 71, 86, 68, 86, 72, 70, 80, 49, 53]\n"
     ]
    }
   ],
   "source": [
    "print(sp_authors_df[\"life-span\"].values.tolist())"
   ]
  },
  {
   "cell_type": "markdown",
   "metadata": {},
   "source": [
    "Median, 2. Quartil, oder 50. Quantil, oder 50. Percentil"
   ]
  },
  {
   "cell_type": "code",
   "execution_count": 32,
   "metadata": {},
   "outputs": [],
   "source": [
    "q2_life_span = sp_authors_df[\"life-span\"].quantile()"
   ]
  },
  {
   "cell_type": "markdown",
   "metadata": {},
   "source": [
    "1. Quartil, oder 25. Quantil/Percentil"
   ]
  },
  {
   "cell_type": "code",
   "execution_count": 33,
   "metadata": {},
   "outputs": [
    {
     "data": {
      "text/plain": [
       "58.0"
      ]
     },
     "execution_count": 33,
     "metadata": {},
     "output_type": "execute_result"
    }
   ],
   "source": [
    "q1_life_span = sp_authors_df[\"life-span\"].quantile(q=0.25)\n",
    "q1_life_span"
   ]
  },
  {
   "cell_type": "markdown",
   "metadata": {},
   "source": [
    "3. Quartil, oder 75. Quantil/Percentil"
   ]
  },
  {
   "cell_type": "code",
   "execution_count": 34,
   "metadata": {},
   "outputs": [
    {
     "data": {
      "text/plain": [
       "80.0"
      ]
     },
     "execution_count": 34,
     "metadata": {},
     "output_type": "execute_result"
    }
   ],
   "source": [
    "q3_life_span = sp_authors_df[\"life-span\"].quantile(q=0.75)\n",
    "q3_life_span"
   ]
  },
  {
   "cell_type": "code",
   "execution_count": 36,
   "metadata": {},
   "outputs": [
    {
     "data": {
      "text/plain": [
       "22.0"
      ]
     },
     "execution_count": 36,
     "metadata": {},
     "output_type": "execute_result"
    }
   ],
   "source": [
    "iqr_life_span = q3_life_span - q1_life_span\n",
    "iqr_life_span"
   ]
  },
  {
   "cell_type": "markdown",
   "metadata": {},
   "source": [
    "Es gibt in Pandas keine Methode .iqr() leider"
   ]
  },
  {
   "cell_type": "code",
   "execution_count": 40,
   "metadata": {},
   "outputs": [
    {
     "ename": "AttributeError",
     "evalue": "'Series' object has no attribute 'iqr'",
     "output_type": "error",
     "traceback": [
      "\u001b[0;31m---------------------------------------------------------------------------\u001b[0m",
      "\u001b[0;31mAttributeError\u001b[0m                            Traceback (most recent call last)",
      "\u001b[0;32m<ipython-input-40-1e91535cfe51>\u001b[0m in \u001b[0;36m<module>\u001b[0;34m()\u001b[0m\n\u001b[0;32m----> 1\u001b[0;31m \u001b[0msp_authors_df\u001b[0m\u001b[0;34m[\u001b[0m\u001b[0;34m\"life-span\"\u001b[0m\u001b[0;34m]\u001b[0m\u001b[0;34m.\u001b[0m\u001b[0miqr\u001b[0m\u001b[0;34m(\u001b[0m\u001b[0;34m)\u001b[0m\u001b[0;34m\u001b[0m\u001b[0;34m\u001b[0m\u001b[0m\n\u001b[0m",
      "\u001b[0;32m/usr/local/lib/python3.6/dist-packages/pandas/core/generic.py\u001b[0m in \u001b[0;36m__getattr__\u001b[0;34m(self, name)\u001b[0m\n\u001b[1;32m   4374\u001b[0m             \u001b[0;32mif\u001b[0m \u001b[0mself\u001b[0m\u001b[0;34m.\u001b[0m\u001b[0m_info_axis\u001b[0m\u001b[0;34m.\u001b[0m\u001b[0m_can_hold_identifiers_and_holds_name\u001b[0m\u001b[0;34m(\u001b[0m\u001b[0mname\u001b[0m\u001b[0;34m)\u001b[0m\u001b[0;34m:\u001b[0m\u001b[0;34m\u001b[0m\u001b[0;34m\u001b[0m\u001b[0m\n\u001b[1;32m   4375\u001b[0m                 \u001b[0;32mreturn\u001b[0m \u001b[0mself\u001b[0m\u001b[0;34m[\u001b[0m\u001b[0mname\u001b[0m\u001b[0;34m]\u001b[0m\u001b[0;34m\u001b[0m\u001b[0;34m\u001b[0m\u001b[0m\n\u001b[0;32m-> 4376\u001b[0;31m             \u001b[0;32mreturn\u001b[0m \u001b[0mobject\u001b[0m\u001b[0;34m.\u001b[0m\u001b[0m__getattribute__\u001b[0m\u001b[0;34m(\u001b[0m\u001b[0mself\u001b[0m\u001b[0;34m,\u001b[0m \u001b[0mname\u001b[0m\u001b[0;34m)\u001b[0m\u001b[0;34m\u001b[0m\u001b[0;34m\u001b[0m\u001b[0m\n\u001b[0m\u001b[1;32m   4377\u001b[0m \u001b[0;34m\u001b[0m\u001b[0m\n\u001b[1;32m   4378\u001b[0m     \u001b[0;32mdef\u001b[0m \u001b[0m__setattr__\u001b[0m\u001b[0;34m(\u001b[0m\u001b[0mself\u001b[0m\u001b[0;34m,\u001b[0m \u001b[0mname\u001b[0m\u001b[0;34m,\u001b[0m \u001b[0mvalue\u001b[0m\u001b[0;34m)\u001b[0m\u001b[0;34m:\u001b[0m\u001b[0;34m\u001b[0m\u001b[0;34m\u001b[0m\u001b[0m\n",
      "\u001b[0;31mAttributeError\u001b[0m: 'Series' object has no attribute 'iqr'"
     ]
    }
   ],
   "source": [
    "sp_authors_df[\"life-span\"].iqr()"
   ]
  },
  {
   "cell_type": "markdown",
   "metadata": {},
   "source": [
    "Dafür muss das Library scipy benützt werden:"
   ]
  },
  {
   "cell_type": "code",
   "execution_count": 39,
   "metadata": {},
   "outputs": [
    {
     "data": {
      "text/plain": [
       "22.0"
      ]
     },
     "execution_count": 39,
     "metadata": {},
     "output_type": "execute_result"
    }
   ],
   "source": [
    "import scipy.stats as stats\n",
    "\n",
    "stats.iqr(sp_authors_df[\"life-span\"])"
   ]
  },
  {
   "cell_type": "markdown",
   "metadata": {},
   "source": [
    "# Histogram"
   ]
  },
  {
   "cell_type": "code",
   "execution_count": 41,
   "metadata": {},
   "outputs": [],
   "source": [
    "import matplotlib.pyplot as plt\n",
    "%matplotlib inline"
   ]
  },
  {
   "cell_type": "code",
   "execution_count": 45,
   "metadata": {},
   "outputs": [
    {
     "data": {
      "text/plain": [
       "<matplotlib.axes._subplots.AxesSubplot at 0x7f841a673208>"
      ]
     },
     "execution_count": 45,
     "metadata": {},
     "output_type": "execute_result"
    },
    {
     "data": {
      "image/png": "[encoded data removed]",
      "text/plain": [
       "<Figure size 432x288 with 1 Axes>"
      ]
     },
     "metadata": {},
     "output_type": "display_data"
    }
   ],
   "source": [
    "sp_authors_df[\"life-span\"].plot.hist()"
   ]
  },
  {
   "cell_type": "code",
   "execution_count": 48,
   "metadata": {},
   "outputs": [
    {
     "data": {
      "text/plain": [
       "<matplotlib.axes._subplots.AxesSubplot at 0x7f8403418a58>"
      ]
     },
     "execution_count": 48,
     "metadata": {},
     "output_type": "execute_result"
    },
    {
     "data": {
      "image/png": "[encoded data removed]",
      "text/plain": [
       "<Figure size 432x288 with 1 Axes>"
      ]
     },
     "metadata": {},
     "output_type": "display_data"
    }
   ],
   "source": [
    "sp_authors_df[\"life-span\"].plot.hist(bins=50)"
   ]
  },
  {
   "cell_type": "code",
   "execution_count": 49,
   "metadata": {},
   "outputs": [
    {
     "data": {
      "text/plain": [
       "<matplotlib.axes._subplots.AxesSubplot at 0x7f840346bbe0>"
      ]
     },
     "execution_count": 49,
     "metadata": {},
     "output_type": "execute_result"
    },
    {
     "data": {
      "image/png": "[encoded data removed]",
      "text/plain": [
       "<Figure size 432x288 with 1 Axes>"
      ]
     },
     "metadata": {},
     "output_type": "display_data"
    }
   ],
   "source": [
    "sp_authors_df[\"life-span\"].plot.hist(bins=100)"
   ]
  },
  {
   "cell_type": "code",
   "execution_count": 51,
   "metadata": {},
   "outputs": [
    {
     "data": {
      "text/plain": [
       "<matplotlib.axes._subplots.AxesSubplot at 0x7f840321ec88>"
      ]
     },
     "execution_count": 51,
     "metadata": {},
     "output_type": "execute_result"
    },
    {
     "data": {
      "image/png": "[encoded data removed]",
      "text/plain": [
       "<Figure size 432x288 with 1 Axes>"
      ]
     },
     "metadata": {},
     "output_type": "display_data"
    }
   ],
   "source": [
    "sp_authors_df[\"pages-in-manual\"].plot.hist()"
   ]
  },
  {
   "cell_type": "code",
   "execution_count": 52,
   "metadata": {},
   "outputs": [
    {
     "data": {
      "text/plain": [
       "<matplotlib.axes._subplots.AxesSubplot at 0x7f840319dda0>"
      ]
     },
     "execution_count": 52,
     "metadata": {},
     "output_type": "execute_result"
    },
    {
     "data": {
      "image/png": "[encoded data removed]",
      "text/plain": [
       "<Figure size 432x288 with 1 Axes>"
      ]
     },
     "metadata": {},
     "output_type": "display_data"
    }
   ],
   "source": [
    "sp_authors_df[\"pages-in-manual\"].plot.hist(bins=100)"
   ]
  },
  {
   "cell_type": "markdown",
   "metadata": {},
   "source": [
    "# Skalenniveaus"
   ]
  },
  {
   "cell_type": "markdown",
   "metadata": {},
   "source": [
    "## Nominalskaliert"
   ]
  },
  {
   "cell_type": "code",
   "execution_count": 55,
   "metadata": {},
   "outputs": [],
   "source": [
    "sp_novels_df = pd.read_csv(\"../Datensaetze/spanish-novels.tsv\", sep=\"\\t\")"
   ]
  },
  {
   "cell_type": "code",
   "execution_count": 58,
   "metadata": {},
   "outputs": [
    {
     "data": {
      "text/plain": [
       "0    third-person\n",
       "1    third-person\n",
       "2    third-person\n",
       "3    third-person\n",
       "4    third-person\n",
       "5    third-person\n",
       "6    third-person\n",
       "7    third-person\n",
       "8    first-person\n",
       "9    first-person\n",
       "Name: narrator, dtype: object"
      ]
     },
     "execution_count": 58,
     "metadata": {},
     "output_type": "execute_result"
    }
   ],
   "source": [
    "sp_novels_df[\"narrator\"].head(10)"
   ]
  },
  {
   "cell_type": "markdown",
   "metadata": {},
   "source": [
    "## Ordinalskaliert"
   ]
  },
  {
   "cell_type": "code",
   "execution_count": 59,
   "metadata": {},
   "outputs": [
    {
     "data": {
      "text/plain": [
       "0      high\n",
       "1       low\n",
       "2       low\n",
       "3      high\n",
       "4       low\n",
       "5    medium\n",
       "6      high\n",
       "7       low\n",
       "8    medium\n",
       "9      high\n",
       "Name: protagonist-social-level, dtype: object"
      ]
     },
     "execution_count": 59,
     "metadata": {},
     "output_type": "execute_result"
    }
   ],
   "source": [
    "sp_novels_df[\"protagonist-social-level\"][0:10]"
   ]
  },
  {
   "cell_type": "markdown",
   "metadata": {},
   "source": [
    "## Intervallskaliert"
   ]
  },
  {
   "cell_type": "code",
   "execution_count": 60,
   "metadata": {},
   "outputs": [
    {
     "data": {
      "text/html": [
       "<div>\n",
       "<style scoped>\n",
       "    .dataframe tbody tr th:only-of-type {\n",
       "        vertical-align: middle;\n",
       "    }\n",
       "\n",
       "    .dataframe tbody tr th {\n",
       "        vertical-align: top;\n",
       "    }\n",
       "\n",
       "    .dataframe thead th {\n",
       "        text-align: right;\n",
       "    }\n",
       "</style>\n",
       "<table border=\"1\" class=\"dataframe\">\n",
       "  <thead>\n",
       "    <tr style=\"text-align: right;\">\n",
       "      <th></th>\n",
       "      <th>year</th>\n",
       "      <th>time-span</th>\n",
       "      <th>canon-proxy</th>\n",
       "      <th>size_words</th>\n",
       "    </tr>\n",
       "  </thead>\n",
       "  <tbody>\n",
       "    <tr>\n",
       "      <th>0</th>\n",
       "      <td>1903</td>\n",
       "      <td>365</td>\n",
       "      <td>2.0</td>\n",
       "      <td>51032</td>\n",
       "    </tr>\n",
       "    <tr>\n",
       "      <th>1</th>\n",
       "      <td>1889</td>\n",
       "      <td>90</td>\n",
       "      <td>6.0</td>\n",
       "      <td>83782</td>\n",
       "    </tr>\n",
       "    <tr>\n",
       "      <th>2</th>\n",
       "      <td>1895</td>\n",
       "      <td>90</td>\n",
       "      <td>2.0</td>\n",
       "      <td>64723</td>\n",
       "    </tr>\n",
       "    <tr>\n",
       "      <th>3</th>\n",
       "      <td>1895</td>\n",
       "      <td>365</td>\n",
       "      <td>1.0</td>\n",
       "      <td>73342</td>\n",
       "    </tr>\n",
       "    <tr>\n",
       "      <th>4</th>\n",
       "      <td>1892</td>\n",
       "      <td>1800</td>\n",
       "      <td>2.0</td>\n",
       "      <td>52555</td>\n",
       "    </tr>\n",
       "    <tr>\n",
       "      <th>5</th>\n",
       "      <td>1891</td>\n",
       "      <td>1825</td>\n",
       "      <td>4.0</td>\n",
       "      <td>248557</td>\n",
       "    </tr>\n",
       "    <tr>\n",
       "      <th>6</th>\n",
       "      <td>1885</td>\n",
       "      <td>365</td>\n",
       "      <td>0.5</td>\n",
       "      <td>38216</td>\n",
       "    </tr>\n",
       "    <tr>\n",
       "      <th>7</th>\n",
       "      <td>1881</td>\n",
       "      <td>1825</td>\n",
       "      <td>5.0</td>\n",
       "      <td>140866</td>\n",
       "    </tr>\n",
       "    <tr>\n",
       "      <th>8</th>\n",
       "      <td>1882</td>\n",
       "      <td>730</td>\n",
       "      <td>3.0</td>\n",
       "      <td>90403</td>\n",
       "    </tr>\n",
       "    <tr>\n",
       "      <th>9</th>\n",
       "      <td>1902</td>\n",
       "      <td>3</td>\n",
       "      <td>4.0</td>\n",
       "      <td>20865</td>\n",
       "    </tr>\n",
       "    <tr>\n",
       "      <th>10</th>\n",
       "      <td>1903</td>\n",
       "      <td>7</td>\n",
       "      <td>3.0</td>\n",
       "      <td>22401</td>\n",
       "    </tr>\n",
       "    <tr>\n",
       "      <th>11</th>\n",
       "      <td>1904</td>\n",
       "      <td>7</td>\n",
       "      <td>4.0</td>\n",
       "      <td>18706</td>\n",
       "    </tr>\n",
       "    <tr>\n",
       "      <th>12</th>\n",
       "      <td>1904</td>\n",
       "      <td>30</td>\n",
       "      <td>3.0</td>\n",
       "      <td>19377</td>\n",
       "    </tr>\n",
       "    <tr>\n",
       "      <th>13</th>\n",
       "      <td>1905</td>\n",
       "      <td>15</td>\n",
       "      <td>3.0</td>\n",
       "      <td>24108</td>\n",
       "    </tr>\n",
       "    <tr>\n",
       "      <th>14</th>\n",
       "      <td>1905</td>\n",
       "      <td>150</td>\n",
       "      <td>1.0</td>\n",
       "      <td>100190</td>\n",
       "    </tr>\n",
       "    <tr>\n",
       "      <th>15</th>\n",
       "      <td>1908</td>\n",
       "      <td>15</td>\n",
       "      <td>1.0</td>\n",
       "      <td>21992</td>\n",
       "    </tr>\n",
       "    <tr>\n",
       "      <th>16</th>\n",
       "      <td>1909</td>\n",
       "      <td>15</td>\n",
       "      <td>1.0</td>\n",
       "      <td>25328</td>\n",
       "    </tr>\n",
       "    <tr>\n",
       "      <th>17</th>\n",
       "      <td>1909</td>\n",
       "      <td>15</td>\n",
       "      <td>1.0</td>\n",
       "      <td>24650</td>\n",
       "    </tr>\n",
       "    <tr>\n",
       "      <th>18</th>\n",
       "      <td>1883</td>\n",
       "      <td>1095</td>\n",
       "      <td>3.0</td>\n",
       "      <td>113457</td>\n",
       "    </tr>\n",
       "    <tr>\n",
       "      <th>19</th>\n",
       "      <td>1884</td>\n",
       "      <td>365</td>\n",
       "      <td>2.0</td>\n",
       "      <td>71557</td>\n",
       "    </tr>\n",
       "    <tr>\n",
       "      <th>20</th>\n",
       "      <td>1884</td>\n",
       "      <td>365</td>\n",
       "      <td>6.0</td>\n",
       "      <td>83001</td>\n",
       "    </tr>\n",
       "    <tr>\n",
       "      <th>21</th>\n",
       "      <td>1884</td>\n",
       "      <td>1460</td>\n",
       "      <td>3.0</td>\n",
       "      <td>158503</td>\n",
       "    </tr>\n",
       "    <tr>\n",
       "      <th>22</th>\n",
       "      <td>1926</td>\n",
       "      <td>3</td>\n",
       "      <td>9.0</td>\n",
       "      <td>48982</td>\n",
       "    </tr>\n",
       "    <tr>\n",
       "      <th>23</th>\n",
       "      <td>1888</td>\n",
       "      <td>730</td>\n",
       "      <td>3.0</td>\n",
       "      <td>97211</td>\n",
       "    </tr>\n",
       "    <tr>\n",
       "      <th>24</th>\n",
       "      <td>1889</td>\n",
       "      <td>150</td>\n",
       "      <td>1.0</td>\n",
       "      <td>75158</td>\n",
       "    </tr>\n",
       "    <tr>\n",
       "      <th>25</th>\n",
       "      <td>1927</td>\n",
       "      <td>60</td>\n",
       "      <td>2.0</td>\n",
       "      <td>75623</td>\n",
       "    </tr>\n",
       "    <tr>\n",
       "      <th>26</th>\n",
       "      <td>1928</td>\n",
       "      <td>60</td>\n",
       "      <td>2.0</td>\n",
       "      <td>88213</td>\n",
       "    </tr>\n",
       "    <tr>\n",
       "      <th>27</th>\n",
       "      <td>1917</td>\n",
       "      <td>1</td>\n",
       "      <td>2.0</td>\n",
       "      <td>11572</td>\n",
       "    </tr>\n",
       "    <tr>\n",
       "      <th>28</th>\n",
       "      <td>1921</td>\n",
       "      <td>3650</td>\n",
       "      <td>0.5</td>\n",
       "      <td>89121</td>\n",
       "    </tr>\n",
       "    <tr>\n",
       "      <th>29</th>\n",
       "      <td>1908</td>\n",
       "      <td>3650</td>\n",
       "      <td>1.0</td>\n",
       "      <td>12852</td>\n",
       "    </tr>\n",
       "    <tr>\n",
       "      <th>...</th>\n",
       "      <td>...</td>\n",
       "      <td>...</td>\n",
       "      <td>...</td>\n",
       "      <td>...</td>\n",
       "    </tr>\n",
       "    <tr>\n",
       "      <th>130</th>\n",
       "      <td>1880</td>\n",
       "      <td>365</td>\n",
       "      <td>1.0</td>\n",
       "      <td>85887</td>\n",
       "    </tr>\n",
       "    <tr>\n",
       "      <th>131</th>\n",
       "      <td>1882</td>\n",
       "      <td>365</td>\n",
       "      <td>1.0</td>\n",
       "      <td>81676</td>\n",
       "    </tr>\n",
       "    <tr>\n",
       "      <th>132</th>\n",
       "      <td>1889</td>\n",
       "      <td>365</td>\n",
       "      <td>1.0</td>\n",
       "      <td>125793</td>\n",
       "    </tr>\n",
       "    <tr>\n",
       "      <th>133</th>\n",
       "      <td>1926</td>\n",
       "      <td>10950</td>\n",
       "      <td>0.5</td>\n",
       "      <td>46365</td>\n",
       "    </tr>\n",
       "    <tr>\n",
       "      <th>134</th>\n",
       "      <td>1908</td>\n",
       "      <td>365</td>\n",
       "      <td>1.0</td>\n",
       "      <td>46781</td>\n",
       "    </tr>\n",
       "    <tr>\n",
       "      <th>135</th>\n",
       "      <td>1909</td>\n",
       "      <td>365</td>\n",
       "      <td>1.0</td>\n",
       "      <td>59501</td>\n",
       "    </tr>\n",
       "    <tr>\n",
       "      <th>136</th>\n",
       "      <td>1911</td>\n",
       "      <td>21900</td>\n",
       "      <td>1.0</td>\n",
       "      <td>84736</td>\n",
       "    </tr>\n",
       "    <tr>\n",
       "      <th>137</th>\n",
       "      <td>1923</td>\n",
       "      <td>1095</td>\n",
       "      <td>1.0</td>\n",
       "      <td>69811</td>\n",
       "    </tr>\n",
       "    <tr>\n",
       "      <th>138</th>\n",
       "      <td>1899</td>\n",
       "      <td>1095</td>\n",
       "      <td>0.5</td>\n",
       "      <td>57979</td>\n",
       "    </tr>\n",
       "    <tr>\n",
       "      <th>139</th>\n",
       "      <td>1881</td>\n",
       "      <td>365</td>\n",
       "      <td>0.5</td>\n",
       "      <td>65946</td>\n",
       "    </tr>\n",
       "    <tr>\n",
       "      <th>140</th>\n",
       "      <td>1884</td>\n",
       "      <td>365</td>\n",
       "      <td>0.5</td>\n",
       "      <td>49110</td>\n",
       "    </tr>\n",
       "    <tr>\n",
       "      <th>141</th>\n",
       "      <td>1893</td>\n",
       "      <td>120</td>\n",
       "      <td>0.5</td>\n",
       "      <td>75469</td>\n",
       "    </tr>\n",
       "    <tr>\n",
       "      <th>142</th>\n",
       "      <td>1899</td>\n",
       "      <td>90</td>\n",
       "      <td>0.5</td>\n",
       "      <td>117165</td>\n",
       "    </tr>\n",
       "    <tr>\n",
       "      <th>143</th>\n",
       "      <td>1896</td>\n",
       "      <td>365</td>\n",
       "      <td>0.5</td>\n",
       "      <td>59077</td>\n",
       "    </tr>\n",
       "    <tr>\n",
       "      <th>144</th>\n",
       "      <td>1890</td>\n",
       "      <td>365</td>\n",
       "      <td>0.5</td>\n",
       "      <td>124829</td>\n",
       "    </tr>\n",
       "    <tr>\n",
       "      <th>145</th>\n",
       "      <td>1892</td>\n",
       "      <td>365</td>\n",
       "      <td>0.5</td>\n",
       "      <td>87879</td>\n",
       "    </tr>\n",
       "    <tr>\n",
       "      <th>146</th>\n",
       "      <td>1893</td>\n",
       "      <td>365</td>\n",
       "      <td>0.5</td>\n",
       "      <td>88715</td>\n",
       "    </tr>\n",
       "    <tr>\n",
       "      <th>147</th>\n",
       "      <td>1886</td>\n",
       "      <td>730</td>\n",
       "      <td>9.0</td>\n",
       "      <td>105964</td>\n",
       "    </tr>\n",
       "    <tr>\n",
       "      <th>148</th>\n",
       "      <td>1886</td>\n",
       "      <td>730</td>\n",
       "      <td>9.0</td>\n",
       "      <td>100739</td>\n",
       "    </tr>\n",
       "    <tr>\n",
       "      <th>149</th>\n",
       "      <td>1886</td>\n",
       "      <td>730</td>\n",
       "      <td>9.0</td>\n",
       "      <td>89072</td>\n",
       "    </tr>\n",
       "    <tr>\n",
       "      <th>150</th>\n",
       "      <td>1887</td>\n",
       "      <td>730</td>\n",
       "      <td>9.0</td>\n",
       "      <td>99410</td>\n",
       "    </tr>\n",
       "    <tr>\n",
       "      <th>151</th>\n",
       "      <td>1885</td>\n",
       "      <td>3</td>\n",
       "      <td>16.0</td>\n",
       "      <td>141497</td>\n",
       "    </tr>\n",
       "    <tr>\n",
       "      <th>152</th>\n",
       "      <td>1885</td>\n",
       "      <td>820</td>\n",
       "      <td>16.0</td>\n",
       "      <td>162617</td>\n",
       "    </tr>\n",
       "    <tr>\n",
       "      <th>153</th>\n",
       "      <td>1925</td>\n",
       "      <td>365</td>\n",
       "      <td>0.5</td>\n",
       "      <td>57787</td>\n",
       "    </tr>\n",
       "    <tr>\n",
       "      <th>154</th>\n",
       "      <td>1930</td>\n",
       "      <td>365</td>\n",
       "      <td>0.5</td>\n",
       "      <td>8288</td>\n",
       "    </tr>\n",
       "    <tr>\n",
       "      <th>155</th>\n",
       "      <td>1930</td>\n",
       "      <td>365</td>\n",
       "      <td>1.0</td>\n",
       "      <td>3786</td>\n",
       "    </tr>\n",
       "    <tr>\n",
       "      <th>156</th>\n",
       "      <td>1916</td>\n",
       "      <td>365</td>\n",
       "      <td>0.5</td>\n",
       "      <td>32157</td>\n",
       "    </tr>\n",
       "    <tr>\n",
       "      <th>157</th>\n",
       "      <td>1925</td>\n",
       "      <td>365</td>\n",
       "      <td>0.5</td>\n",
       "      <td>43242</td>\n",
       "    </tr>\n",
       "    <tr>\n",
       "      <th>158</th>\n",
       "      <td>1929</td>\n",
       "      <td>365</td>\n",
       "      <td>1.0</td>\n",
       "      <td>19580</td>\n",
       "    </tr>\n",
       "    <tr>\n",
       "      <th>159</th>\n",
       "      <td>1918</td>\n",
       "      <td>365</td>\n",
       "      <td>0.5</td>\n",
       "      <td>19641</td>\n",
       "    </tr>\n",
       "  </tbody>\n",
       "</table>\n",
       "<p>160 rows × 4 columns</p>\n",
       "</div>"
      ],
      "text/plain": [
       "     year  time-span  canon-proxy  size_words\n",
       "0    1903        365          2.0       51032\n",
       "1    1889         90          6.0       83782\n",
       "2    1895         90          2.0       64723\n",
       "3    1895        365          1.0       73342\n",
       "4    1892       1800          2.0       52555\n",
       "5    1891       1825          4.0      248557\n",
       "6    1885        365          0.5       38216\n",
       "7    1881       1825          5.0      140866\n",
       "8    1882        730          3.0       90403\n",
       "9    1902          3          4.0       20865\n",
       "10   1903          7          3.0       22401\n",
       "11   1904          7          4.0       18706\n",
       "12   1904         30          3.0       19377\n",
       "13   1905         15          3.0       24108\n",
       "14   1905        150          1.0      100190\n",
       "15   1908         15          1.0       21992\n",
       "16   1909         15          1.0       25328\n",
       "17   1909         15          1.0       24650\n",
       "18   1883       1095          3.0      113457\n",
       "19   1884        365          2.0       71557\n",
       "20   1884        365          6.0       83001\n",
       "21   1884       1460          3.0      158503\n",
       "22   1926          3          9.0       48982\n",
       "23   1888        730          3.0       97211\n",
       "24   1889        150          1.0       75158\n",
       "25   1927         60          2.0       75623\n",
       "26   1928         60          2.0       88213\n",
       "27   1917          1          2.0       11572\n",
       "28   1921       3650          0.5       89121\n",
       "29   1908       3650          1.0       12852\n",
       "..    ...        ...          ...         ...\n",
       "130  1880        365          1.0       85887\n",
       "131  1882        365          1.0       81676\n",
       "132  1889        365          1.0      125793\n",
       "133  1926      10950          0.5       46365\n",
       "134  1908        365          1.0       46781\n",
       "135  1909        365          1.0       59501\n",
       "136  1911      21900          1.0       84736\n",
       "137  1923       1095          1.0       69811\n",
       "138  1899       1095          0.5       57979\n",
       "139  1881        365          0.5       65946\n",
       "140  1884        365          0.5       49110\n",
       "141  1893        120          0.5       75469\n",
       "142  1899         90          0.5      117165\n",
       "143  1896        365          0.5       59077\n",
       "144  1890        365          0.5      124829\n",
       "145  1892        365          0.5       87879\n",
       "146  1893        365          0.5       88715\n",
       "147  1886        730          9.0      105964\n",
       "148  1886        730          9.0      100739\n",
       "149  1886        730          9.0       89072\n",
       "150  1887        730          9.0       99410\n",
       "151  1885          3         16.0      141497\n",
       "152  1885        820         16.0      162617\n",
       "153  1925        365          0.5       57787\n",
       "154  1930        365          0.5        8288\n",
       "155  1930        365          1.0        3786\n",
       "156  1916        365          0.5       32157\n",
       "157  1925        365          0.5       43242\n",
       "158  1929        365          1.0       19580\n",
       "159  1918        365          0.5       19641\n",
       "\n",
       "[160 rows x 4 columns]"
      ]
     },
     "execution_count": 60,
     "metadata": {},
     "output_type": "execute_result"
    }
   ],
   "source": [
    "sp_novels_df[[\"year\",\"time-span\",\"canon-proxy\",\"size_words\"]]"
   ]
  },
  {
   "cell_type": "code",
   "execution_count": 62,
   "metadata": {},
   "outputs": [
    {
     "data": {
      "text/html": [
       "<div>\n",
       "<style scoped>\n",
       "    .dataframe tbody tr th:only-of-type {\n",
       "        vertical-align: middle;\n",
       "    }\n",
       "\n",
       "    .dataframe tbody tr th {\n",
       "        vertical-align: top;\n",
       "    }\n",
       "\n",
       "    .dataframe thead th {\n",
       "        text-align: right;\n",
       "    }\n",
       "</style>\n",
       "<table border=\"1\" class=\"dataframe\">\n",
       "  <thead>\n",
       "    <tr style=\"text-align: right;\">\n",
       "      <th></th>\n",
       "      <th>year</th>\n",
       "      <th>time-span</th>\n",
       "      <th>canon-proxy</th>\n",
       "      <th>size_words</th>\n",
       "    </tr>\n",
       "  </thead>\n",
       "  <tbody>\n",
       "    <tr>\n",
       "      <th>count</th>\n",
       "      <td>160.000000</td>\n",
       "      <td>160.000000</td>\n",
       "      <td>160.000000</td>\n",
       "      <td>160.000000</td>\n",
       "    </tr>\n",
       "    <tr>\n",
       "      <th>mean</th>\n",
       "      <td>1902.906250</td>\n",
       "      <td>2037.900000</td>\n",
       "      <td>2.153125</td>\n",
       "      <td>67530.543750</td>\n",
       "    </tr>\n",
       "    <tr>\n",
       "      <th>std</th>\n",
       "      <td>14.210368</td>\n",
       "      <td>3780.747301</td>\n",
       "      <td>2.529074</td>\n",
       "      <td>36213.630105</td>\n",
       "    </tr>\n",
       "    <tr>\n",
       "      <th>min</th>\n",
       "      <td>1880.000000</td>\n",
       "      <td>1.000000</td>\n",
       "      <td>0.500000</td>\n",
       "      <td>3786.000000</td>\n",
       "    </tr>\n",
       "    <tr>\n",
       "      <th>25%</th>\n",
       "      <td>1890.750000</td>\n",
       "      <td>363.750000</td>\n",
       "      <td>1.000000</td>\n",
       "      <td>43194.250000</td>\n",
       "    </tr>\n",
       "    <tr>\n",
       "      <th>50%</th>\n",
       "      <td>1903.500000</td>\n",
       "      <td>365.000000</td>\n",
       "      <td>1.000000</td>\n",
       "      <td>66194.000000</td>\n",
       "    </tr>\n",
       "    <tr>\n",
       "      <th>75%</th>\n",
       "      <td>1914.000000</td>\n",
       "      <td>1825.000000</td>\n",
       "      <td>2.000000</td>\n",
       "      <td>89084.250000</td>\n",
       "    </tr>\n",
       "    <tr>\n",
       "      <th>max</th>\n",
       "      <td>1930.000000</td>\n",
       "      <td>21900.000000</td>\n",
       "      <td>16.000000</td>\n",
       "      <td>248557.000000</td>\n",
       "    </tr>\n",
       "  </tbody>\n",
       "</table>\n",
       "</div>"
      ],
      "text/plain": [
       "              year     time-span  canon-proxy     size_words\n",
       "count   160.000000    160.000000   160.000000     160.000000\n",
       "mean   1902.906250   2037.900000     2.153125   67530.543750\n",
       "std      14.210368   3780.747301     2.529074   36213.630105\n",
       "min    1880.000000      1.000000     0.500000    3786.000000\n",
       "25%    1890.750000    363.750000     1.000000   43194.250000\n",
       "50%    1903.500000    365.000000     1.000000   66194.000000\n",
       "75%    1914.000000   1825.000000     2.000000   89084.250000\n",
       "max    1930.000000  21900.000000    16.000000  248557.000000"
      ]
     },
     "execution_count": 62,
     "metadata": {},
     "output_type": "execute_result"
    }
   ],
   "source": [
    "sp_novels_df[[\"year\",\"time-span\",\"canon-proxy\",\"size_words\"]].describe()"
   ]
  },
  {
   "cell_type": "markdown",
   "metadata": {},
   "source": [
    "# Verteilungen"
   ]
  },
  {
   "cell_type": "markdown",
   "metadata": {},
   "source": [
    "## Gauß-Verteilung (Normalverteilung)"
   ]
  },
  {
   "cell_type": "code",
   "execution_count": 66,
   "metadata": {},
   "outputs": [
    {
     "data": {
      "image/png": "[encoded data removed]",
      "text/plain": [
       "<Figure size 432x288 with 1 Axes>"
      ]
     },
     "metadata": {},
     "output_type": "display_data"
    }
   ],
   "source": [
    "import numpy as np\n",
    "normal_distribution = np.random.normal(loc=10, scale = 5, size=1000000)\n",
    "plt.hist(normal_distribution)\n",
    "plt.show()"
   ]
  },
  {
   "cell_type": "code",
   "execution_count": 67,
   "metadata": {},
   "outputs": [
    {
     "data": {
      "image/png": "[encoded data removed]",
      "text/plain": [
       "<Figure size 432x288 with 1 Axes>"
      ]
     },
     "metadata": {},
     "output_type": "display_data"
    }
   ],
   "source": [
    "plt.hist(normal_distribution, bins = 1000)\n",
    "plt.show()"
   ]
  },
  {
   "cell_type": "code",
   "execution_count": 69,
   "metadata": {},
   "outputs": [
    {
     "data": {
      "text/plain": [
       "<matplotlib.axes._subplots.AxesSubplot at 0x7f84020610b8>"
      ]
     },
     "execution_count": 69,
     "metadata": {},
     "output_type": "execute_result"
    },
    {
     "data": {
      "image/png": "[encoded data removed]",
      "text/plain": [
       "<Figure size 432x288 with 1 Axes>"
      ]
     },
     "metadata": {},
     "output_type": "display_data"
    }
   ],
   "source": [
    "sp_authors_df[\"life-span\"].plot.hist(bins=10)"
   ]
  },
  {
   "cell_type": "code",
   "execution_count": 71,
   "metadata": {},
   "outputs": [
    {
     "data": {
      "text/plain": [
       "68.0"
      ]
     },
     "execution_count": 71,
     "metadata": {},
     "output_type": "execute_result"
    }
   ],
   "source": [
    "round(sp_authors_df[\"life-span\"].mean())"
   ]
  },
  {
   "cell_type": "code",
   "execution_count": 73,
   "metadata": {},
   "outputs": [
    {
     "data": {
      "text/plain": [
       "68.0"
      ]
     },
     "execution_count": 73,
     "metadata": {},
     "output_type": "execute_result"
    }
   ],
   "source": [
    "sp_authors_df[\"life-span\"].median()"
   ]
  },
  {
   "cell_type": "code",
   "execution_count": 74,
   "metadata": {},
   "outputs": [
    {
     "data": {
      "image/png": "[encoded data removed]",
      "text/plain": [
       "<Figure size 432x288 with 1 Axes>"
      ]
     },
     "metadata": {},
     "output_type": "display_data"
    }
   ],
   "source": [
    "amount_text = [30,30,30]\n",
    "name_countries = [\"Germany\",\"Austria\",\"Switzerland\"]\n",
    "plt.bar(range(3), amount_text, 1/1.5, color=\"b\")\n",
    "plt.xticks(range(3), name_countries)\n",
    "plt.title(\"Fake German Speaking Corpus (FGSC)\")\n",
    "plt.xlabel(\"Countries\")\n",
    "plt.xlabel(\"Amount of texts\")\n",
    "plt.show()"
   ]
  },
  {
   "cell_type": "markdown",
   "metadata": {},
   "source": [
    "## Poisson Verteilung"
   ]
  },
  {
   "cell_type": "code",
   "execution_count": 76,
   "metadata": {},
   "outputs": [
    {
     "data": {
      "text/plain": [
       "<matplotlib.axes._subplots.AxesSubplot at 0x7f8401e96940>"
      ]
     },
     "execution_count": 76,
     "metadata": {},
     "output_type": "execute_result"
    },
    {
     "data": {
      "image/png": "[encoded data removed]",
      "text/plain": [
       "<Figure size 432x288 with 1 Axes>"
      ]
     },
     "metadata": {},
     "output_type": "display_data"
    }
   ],
   "source": [
    "sp_novels_df[\"size_words\"].plot.hist()"
   ]
  },
  {
   "cell_type": "code",
   "execution_count": 78,
   "metadata": {},
   "outputs": [
    {
     "data": {
      "image/png": "[encoded data removed]",
      "text/plain": [
       "<Figure size 432x288 with 1 Axes>"
      ]
     },
     "metadata": {},
     "output_type": "display_data"
    }
   ],
   "source": [
    "import numpy as np\n",
    "poisson_distribution = np.random.poisson(lam=3, size = 1000)\n",
    "plt.hist(poisson_distribution)\n",
    "plt.show()"
   ]
  },
  {
   "cell_type": "code",
   "execution_count": 79,
   "metadata": {},
   "outputs": [
    {
     "data": {
      "image/png": "[encoded data removed]",
      "text/plain": [
       "<Figure size 432x288 with 1 Axes>"
      ]
     },
     "metadata": {},
     "output_type": "display_data"
    }
   ],
   "source": [
    "import numpy as np\n",
    "poisson_distribution = np.random.poisson(lam=1, size = 1000)\n",
    "plt.hist(poisson_distribution)\n",
    "plt.show()"
   ]
  },
  {
   "cell_type": "code",
   "execution_count": 80,
   "metadata": {},
   "outputs": [
    {
     "data": {
      "image/png": "[encoded data removed]",
      "text/plain": [
       "<Figure size 432x288 with 1 Axes>"
      ]
     },
     "metadata": {},
     "output_type": "display_data"
    }
   ],
   "source": [
    "import numpy as np\n",
    "poisson_distribution = np.random.poisson(lam=100, size = 1000)\n",
    "plt.hist(poisson_distribution)\n",
    "plt.show()"
   ]
  },
  {
   "cell_type": "markdown",
   "metadata": {},
   "source": [
    "## Binomial Distribution"
   ]
  },
  {
   "cell_type": "code",
   "execution_count": 81,
   "metadata": {},
   "outputs": [
    {
     "data": {
      "image/png": "[encoded data removed]",
      "text/plain": [
       "<Figure size 432x288 with 1 Axes>"
      ]
     },
     "metadata": {},
     "output_type": "display_data"
    }
   ],
   "source": [
    "import numpy as np\n",
    "binomial_distribution = np.random.binomial(n=3, p = 0.5, size=1000)\n",
    "plt.hist(binomial_distribution)\n",
    "plt.show()"
   ]
  },
  {
   "cell_type": "code",
   "execution_count": 82,
   "metadata": {},
   "outputs": [
    {
     "data": {
      "image/png": "[encoded data removed]",
      "text/plain": [
       "<Figure size 432x288 with 1 Axes>"
      ]
     },
     "metadata": {},
     "output_type": "display_data"
    }
   ],
   "source": [
    "import numpy as np\n",
    "binomial_distribution = np.random.binomial(n=1, p = 0.5, size=1000)\n",
    "plt.hist(binomial_distribution)\n",
    "plt.show()"
   ]
  },
  {
   "cell_type": "code",
   "execution_count": 83,
   "metadata": {},
   "outputs": [
    {
     "data": {
      "image/png": "[encoded data removed]",
      "text/plain": [
       "<Figure size 432x288 with 1 Axes>"
      ]
     },
     "metadata": {},
     "output_type": "display_data"
    }
   ],
   "source": [
    "import numpy as np\n",
    "binomial_distribution = np.random.binomial(n=7, p = 0.5, size=1000)\n",
    "plt.hist(binomial_distribution)\n",
    "plt.show()"
   ]
  },
  {
   "cell_type": "code",
   "execution_count": 84,
   "metadata": {},
   "outputs": [
    {
     "data": {
      "image/png": "[encoded data removed]",
      "text/plain": [
       "<Figure size 432x288 with 1 Axes>"
      ]
     },
     "metadata": {},
     "output_type": "display_data"
    }
   ],
   "source": [
    "import numpy as np\n",
    "binomial_distribution = np.random.binomial(n=1, p = 0.5, size=100000)\n",
    "plt.hist(binomial_distribution)\n",
    "plt.show()"
   ]
  },
  {
   "cell_type": "code",
   "execution_count": 88,
   "metadata": {},
   "outputs": [
    {
     "data": {
      "image/png": "[encoded data removed]",
      "text/plain": [
       "<Figure size 432x288 with 1 Axes>"
      ]
     },
     "metadata": {},
     "output_type": "display_data"
    }
   ],
   "source": [
    "import numpy as np\n",
    "binomial_distribution = np.random.binomial(n=1, p = 0.2, size=100000)\n",
    "plt.hist(binomial_distribution)\n",
    "plt.show()"
   ]
  }
 ],
 "metadata": {
  "kernelspec": {
   "display_name": "Python 3",
   "language": "python",
   "name": "python3"
  },
  "language_info": {
   "codemirror_mode": {
    "name": "ipython",
    "version": 3
   },
   "file_extension": ".py",
   "mimetype": "text/x-python",
   "name": "python",
   "nbconvert_exporter": "python",
   "pygments_lexer": "ipython3",
   "version": "3.6.7"
  }
 },
 "nbformat": 4,
 "nbformat_minor": 2
}
